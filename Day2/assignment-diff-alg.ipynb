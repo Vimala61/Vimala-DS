{
 "cells": [
  {
   "cell_type": "code",
   "execution_count": 9,
   "id": "c858e339-7717-46a3-a6f8-39a4cc712a4e",
   "metadata": {},
   "outputs": [
    {
     "data": {
      "image/png": "[encoded data removed]",
      "text/plain": [
       "<Figure size 800x300 with 10 Axes>"
      ]
     },
     "metadata": {},
     "output_type": "display_data"
    }
   ],
   "source": [
    "from sklearn.datasets import load_digits #Loading Data\n",
    "import matplotlib.pyplot as digram #Visual\n",
    "import numpy as py #Handling Data\n",
    "from sklearn.cluster import AgglomerativeClustering\n",
    "\n",
    "a = load_digits() #load dataset\n",
    "\n",
    "#apply agglomerative clustering\n",
    "cls = AgglomerativeClustering(n_clusters=10)\n",
    "lbl = cls.fit_predict(a.data)\n",
    "#print(lbl)\n",
    "\n",
    "#computer cluster centers manually\n",
    "cls_center = py.array([a.data[lbl == i].mean(axis=0) for i in range(10)])\n",
    "#print(cls_center)\n",
    "\n",
    "#reshape cluster centers for visualization\n",
    "cls_center = cls_center.reshape(10,8,8)\n",
    "#print(cls_center)\n",
    "\n",
    "#plot cluster centers\n",
    "fig, ax = plt.subplots(2,5, figsize=(8,3))\n",
    "for i, c in zip(ax.flat, cls_center):\n",
    "    i.set(xticks=[], yticks=[])\n",
    "    i.imshow(c, interpolation='nearest', cmap=plt.cm.binary)\n",
    "\n",
    "plt.show()\n",
    "    "
   ]
  },
  {
   "cell_type": "code",
   "execution_count": null,
   "id": "d86809ba-3324-434c-9318-4e9df5db2b09",
   "metadata": {},
   "outputs": [],
   "source": []
  }
 ],
 "metadata": {
  "kernelspec": {
   "display_name": "Python 3 (ipykernel)",
   "language": "python",
   "name": "python3"
  },
  "language_info": {
   "codemirror_mode": {
    "name": "ipython",
    "version": 3
   },
   "file_extension": ".py",
   "mimetype": "text/x-python",
   "name": "python",
   "nbconvert_exporter": "python",
   "pygments_lexer": "ipython3",
   "version": "3.12.2"
  }
 },
 "nbformat": 4,
 "nbformat_minor": 5
}
