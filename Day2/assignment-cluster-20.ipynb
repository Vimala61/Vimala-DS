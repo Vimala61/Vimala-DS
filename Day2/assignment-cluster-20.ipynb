{
 "cells": [
  {
   "cell_type": "code",
   "execution_count": 10,
   "id": "91248ade-56dc-4b64-8890-7df2190fb030",
   "metadata": {},
   "outputs": [
    {
     "name": "stdout",
     "output_type": "stream",
     "text": [
      "(1797, 64)\n",
      "(20, 64)\n"
     ]
    },
    {
     "data": {
      "image/png": "[encoded data removed]",
      "text/plain": [
       "<Figure size 800x300 with 30 Axes>"
      ]
     },
     "metadata": {},
     "output_type": "display_data"
    }
   ],
   "source": [
    "from sklearn.datasets import load_digits #Loading data\n",
    "import matplotlib.pyplot as diagram #Visual\n",
    "import seaborn as sb #Visual \n",
    "import numpy as np #Handling data\n",
    "from sklearn.cluster import KMeans\n",
    "\n",
    "a=load_digits()\n",
    "#print(a)\n",
    "print(a.data.shape)\n",
    "km = KMeans(n_clusters = 20, random_state=0) #algorithm task 1\n",
    "cls = km.fit_predict(a.data)\n",
    "print(km.cluster_centers_.shape)\n",
    "\n",
    "fig, ax = diagram.subplots(3,10,figsize=(8,3))\n",
    "centers= km.cluster_centers_.reshape(20,8,8)\n",
    "for i,c in zip(ax.flat, centers):\n",
    "    i.set(xticks=[],yticks=[])\n",
    "    i.imshow(c, interpolation='nearest')"
   ]
  },
  {
   "cell_type": "code",
   "execution_count": null,
   "id": "3ee2f921-50c3-4083-ae6a-69bc9be3bcfe",
   "metadata": {},
   "outputs": [],
   "source": [
    "pip install matplotlib"
   ]
  },
  {
   "cell_type": "code",
   "execution_count": null,
   "id": "4f40b1f9-b637-46d7-addb-8b6da80cddfa",
   "metadata": {},
   "outputs": [],
   "source": [
    "pip install seaborn"
   ]
  },
  {
   "cell_type": "code",
   "execution_count": null,
   "id": "17ffafce-2c92-4a9b-8d9a-d3826571ee59",
   "metadata": {},
   "outputs": [],
   "source": [
    "pip install KMeans"
   ]
  },
  {
   "cell_type": "code",
   "execution_count": null,
   "id": "01ae69e1-4422-4c67-8ef2-3a5b28b19d1f",
   "metadata": {},
   "outputs": [],
   "source": [
    "pip install scikit-learn"
   ]
  },
  {
   "cell_type": "code",
   "execution_count": null,
   "id": "39e2cde4-ec81-4707-a02a-0a589e5909b7",
   "metadata": {},
   "outputs": [],
   "source": []
  }
 ],
 "metadata": {
  "kernelspec": {
   "display_name": "Python 3 (ipykernel)",
   "language": "python",
   "name": "python3"
  },
  "language_info": {
   "codemirror_mode": {
    "name": "ipython",
    "version": 3
   },
   "file_extension": ".py",
   "mimetype": "text/x-python",
   "name": "python",
   "nbconvert_exporter": "python",
   "pygments_lexer": "ipython3",
   "version": "3.12.2"
  }
 },
 "nbformat": 4,
 "nbformat_minor": 5
}
