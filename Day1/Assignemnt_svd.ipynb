{
 "cells": [
  {
   "cell_type": "code",
   "execution_count": null,
   "id": "405176f5-0683-4e6c-a7b9-25a26454cdcd",
   "metadata": {},
   "outputs": [],
   "source": [
    "pip install numpy"
   ]
  },
  {
   "cell_type": "code",
   "execution_count": null,
   "id": "9130f04e-6494-4800-89c0-c0ccd35d9e8e",
   "metadata": {},
   "outputs": [],
   "source": [
    "pip install pandas"
   ]
  },
  {
   "cell_type": "code",
   "execution_count": null,
   "id": "1f239587-73f6-4047-94e4-f9350b737d63",
   "metadata": {},
   "outputs": [],
   "source": [
    "pip install scipy"
   ]
  },
  {
   "cell_type": "code",
   "execution_count": 7,
   "id": "796a1126-8ec2-4d81-9e2d-06f326c9d804",
   "metadata": {},
   "outputs": [
    {
     "name": "stdout",
     "output_type": "stream",
     "text": [
      "   movieId  predicted_rating\n",
      "0        2               4.5\n",
      "1        4               4.5\n",
      "2        1               4.5\n"
     ]
    }
   ],
   "source": [
    "import numpy as np\n",
    "import pandas as pd\n",
    "from scipy.sparse.linalg import svds\n",
    "\n",
    "def predict_ratings(ratings_matrix, k=50):\n",
    "    mean_user_ratings = np.nanmean(ratings_matrix, axis=1, keepdims=True)\n",
    "    ratings_matrix_normalized = ratings_matrix - mean_user_ratings\n",
    "    ratings_matrix_normalized = np.nan_to_num(ratings_matrix_normalized)  # Handle NaNs properly\n",
    "\n",
    "    # Perform SVD\n",
    "    U, sigma, Vt = svds(ratings_matrix_normalized, k=min(k, min(ratings_matrix.shape) - 1))\n",
    "    sigma = np.diag(sigma)\n",
    "    \n",
    "    # Reconstruct predicted ratings\n",
    "    predicted_ratings = np.dot(np.dot(U, sigma), Vt) + mean_user_ratings\n",
    "    return predicted_ratings\n",
    "\n",
    "def recommend_movies(user_id, ratings_df, predicted_ratings, top_n=5):\n",
    "    user_index = user_id - 1  # Assuming user IDs start from 1\n",
    "    user_predictions = predicted_ratings[user_index]\n",
    "    \n",
    "    # Get movies user hasn't rated yet\n",
    "    rated_movies = ratings_df[ratings_df['userId'] == user_id]['movieId'].tolist()\n",
    "    recommendations = [(i + 1, user_predictions[i]) for i in range(len(user_predictions)) if (i + 1) not in rated_movies]\n",
    "    \n",
    "    # Sort by predicted rating\n",
    "    recommendations.sort(key=lambda x: x[1], reverse=True)\n",
    "    \n",
    "    return pd.DataFrame(recommendations[:top_n], columns=['movieId', 'predicted_rating'])\n",
    "\n",
    "# Example Usage\n",
    "data = {\n",
    "    'userId': [1,1,1,2,2,3,3,4,4,5],\n",
    "    'movieId': [1,2,3,1,3,2,4,3,5,1],\n",
    "    'rating': [4,5,3,5,4,2,3,5,4,3]\n",
    "}\n",
    "ratings_df = pd.DataFrame(data)\n",
    "\n",
    "# Create user-item matrix\n",
    "num_users = ratings_df['userId'].max()\n",
    "num_movies = ratings_df['movieId'].max()\n",
    "ratings_matrix = np.full((num_users, num_movies), np.nan)\n",
    "\n",
    "for row in ratings_df.itertuples():\n",
    "    ratings_matrix[row.userId - 1, row.movieId - 1] = row.rating\n",
    "\n",
    "# Predict ratings\n",
    "predicted_ratings = predict_ratings(ratings_matrix)\n",
    "\n",
    "# Recommend movies for user 1\n",
    "recommendations = recommend_movies(4, ratings_df, predicted_ratings)\n",
    "print(recommendations)\n"
   ]
  },
  {
   "cell_type": "code",
   "execution_count": null,
   "id": "5c13e90d-5ee4-4211-a329-eb180811f13e",
   "metadata": {},
   "outputs": [],
   "source": []
  }
 ],
 "metadata": {
  "kernelspec": {
   "display_name": "Python 3 (ipykernel)",
   "language": "python",
   "name": "python3"
  },
  "language_info": {
   "codemirror_mode": {
    "name": "ipython",
    "version": 3
   },
   "file_extension": ".py",
   "mimetype": "text/x-python",
   "name": "python",
   "nbconvert_exporter": "python",
   "pygments_lexer": "ipython3",
   "version": "3.12.2"
  }
 },
 "nbformat": 4,
 "nbformat_minor": 5
}
