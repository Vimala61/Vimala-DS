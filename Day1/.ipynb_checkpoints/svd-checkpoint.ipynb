{
 "cells": [
  {
   "cell_type": "code",
   "execution_count": 5,
   "id": "4e568641-1d89-42a5-a4f5-94cde3960615",
   "metadata": {},
   "outputs": [
    {
     "name": "stdout",
     "output_type": "stream",
     "text": [
      "[[nan nan nan nan nan]\n",
      " [nan nan nan nan nan]\n",
      " [nan nan nan nan nan]\n",
      " [nan nan nan nan nan]\n",
      " [nan nan nan nan nan]]\n"
     ]
    }
   ],
   "source": [
    "import numpy as np\n",
    "import pandas as pd\n",
    "from scipy.sparse.linalg import svds\n",
    "\n",
    "data = {\n",
    "    'userId': [1,1,1,2,2,3,3,4,4,5],\n",
    "    'movieId': [1,2,3,1,3,2,4,3,5,1],\n",
    "    'rating': [4,5,3,5,4,2,3,5,4,3]\n",
    "}\n",
    "ratings_df = pd.DataFrame(data)\n",
    "\n",
    "#print(ratings_df)\n",
    "\n",
    "# create user-item matrix\n",
    "num_users = ratings_df['userId'].max()\n",
    "num_movies = ratings_df['movieId'].max()\n",
    "ratings_matrix = np.full((num_users, num_movies),np.nan)\n",
    "#print(num_users, num_movies)\n",
    "#print(ratings_matrix)\n",
    "\n",
    "for row in ratings_df.itertuples():\n",
    "    ratings_matrix[row.userId - 1, row.movieId - 1] = row.rating\n",
    "\n",
    "print(ratings_matrix)\n",
    "# Predict rating\n",
    "predicted_ratings = predict_ratings(ratings_matrix)\n",
    "print(predicted_ratings)\n",
    "\n",
    "#Reommand movies for user 1\n",
    "recommandations = recommand_movies(1,ratings_df, predicted_ratings)"
   ]
  },
  {
   "cell_type": "code",
   "execution_count": null,
   "id": "405176f5-0683-4e6c-a7b9-25a26454cdcd",
   "metadata": {},
   "outputs": [],
   "source": [
    "pip install numpy"
   ]
  },
  {
   "cell_type": "code",
   "execution_count": null,
   "id": "9130f04e-6494-4800-89c0-c0ccd35d9e8e",
   "metadata": {},
   "outputs": [],
   "source": [
    "pip install pandas"
   ]
  },
  {
   "cell_type": "code",
   "execution_count": null,
   "id": "1f239587-73f6-4047-94e4-f9350b737d63",
   "metadata": {},
   "outputs": [],
   "source": [
    "pip install scipy"
   ]
  },
  {
   "cell_type": "code",
   "execution_count": null,
   "id": "796a1126-8ec2-4d81-9e2d-06f326c9d804",
   "metadata": {},
   "outputs": [],
   "source": []
  }
 ],
 "metadata": {
  "kernelspec": {
   "display_name": "Python 3 (ipykernel)",
   "language": "python",
   "name": "python3"
  },
  "language_info": {
   "codemirror_mode": {
    "name": "ipython",
    "version": 3
   },
   "file_extension": ".py",
   "mimetype": "text/x-python",
   "name": "python",
   "nbconvert_exporter": "python",
   "pygments_lexer": "ipython3",
   "version": "3.12.2"
  }
 },
 "nbformat": 4,
 "nbformat_minor": 5
}
