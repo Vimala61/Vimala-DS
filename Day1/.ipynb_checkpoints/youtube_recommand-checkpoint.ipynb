{
 "cells": [
  {
   "cell_type": "code",
   "execution_count": 3,
   "id": "37370fda-f005-4134-bda1-c148dbd3153a",
   "metadata": {},
   "outputs": [
    {
     "name": "stdout",
     "output_type": "stream",
     "text": [
      "             Title     Genre\n",
      "0        Inception    Sci-Fi\n",
      "1     Interstellar    Sci-Fi\n",
      "2          Dunkirk       War\n",
      "3  The Dark Knight    Action\n",
      "4          Memento  Thriller\n",
      "<Compressed Sparse Row sparse matrix of dtype 'float64'\n",
      "\twith 7 stored elements and shape (5, 5)>\n",
      "  Coords\tValues\n",
      "  (0, 2)\t0.7071067811865476\n",
      "  (0, 1)\t0.7071067811865476\n",
      "  (1, 2)\t0.7071067811865476\n",
      "  (1, 1)\t0.7071067811865476\n",
      "  (2, 4)\t1.0\n",
      "  (3, 0)\t1.0\n",
      "  (4, 3)\t1.0\n",
      "[[1. 1. 0. 0. 0.]\n",
      " [1. 1. 0. 0. 0.]\n",
      " [0. 0. 1. 0. 0.]\n",
      " [0. 0. 0. 1. 0.]\n",
      " [0. 0. 0. 0. 1.]]\n",
      "0\n",
      "[(0, np.float64(1.0000000000000002)), (1, np.float64(1.0000000000000002)), (2, np.float64(0.0)), (3, np.float64(0.0)), (4, np.float64(0.0))]\n"
     ]
    },
    {
     "data": {
      "text/plain": [
       "['Interstellar', 'Dunkirk']"
      ]
     },
     "execution_count": 3,
     "metadata": {},
     "output_type": "execute_result"
    }
   ],
   "source": [
    "#Pandas -Numbers , Text\n",
    "#Numpy \n",
    "\n",
    "#matplotlib - visual\n",
    "\n",
    "#scikit\n",
    "#pytorch\n",
    "#tensorflow\n",
    "#sklearn\n",
    "#pip install pandas #To install pandas\n",
    "\n",
    "import pandas as pd\n",
    "from sklearn.feature_extraction.text import TfidfVectorizer\n",
    "from sklearn.metrics.pairwise import cosine_similarity\n",
    "\n",
    "#Dictionary datatype\n",
    "# Csv file , excel , Database (Stru , unstru)\n",
    "\n",
    "data={'Title':['Inception','Interstellar','Dunkirk','The Dark Knight','Memento'],'Genre':['Sci-Fi','Sci-Fi','War','Action','Thriller']}\n",
    "\n",
    "#Dataframe ->Data handling in pandas  (list , set etc)\n",
    "\n",
    "df= pd.DataFrame(data)\n",
    "\n",
    "print(df)\n",
    "\n",
    "\n",
    "# Text data ---> Numerical vectors\n",
    "\n",
    "vectorizer=TfidfVectorizer()\n",
    "genre_m =vectorizer.fit_transform(df['Genre'])\n",
    "\n",
    "\n",
    "print(genre_m)\n",
    "\n",
    "similarity = cosine_similarity(genre_m)\n",
    "\n",
    "print(similarity)\n",
    "\n",
    "\n",
    "def Youtube_Recommendation(title):\n",
    "    idx= df[df['Title']==title].index[0] # Get the index of movies\n",
    "    print(idx)\n",
    "    #[0,1,2,3,4]   --> Index  Enumerate() --> Add the result with index  [Index 0 : 0 , Index 1 : 1]\n",
    "    similar_films =  list(enumerate(similarity[idx])) # Get the similarity score \n",
    "    print(similar_films)\n",
    "    #sorted = asc , desc    \n",
    "    list_movies = sorted(similar_films, key=lambda x:x[1],reverse=True)[1:3] #sort & top recommendation of movie\n",
    "    recommendations=[df['Title'][i[0]]  for i in list_movies]\n",
    "    return recommendations\n",
    "    \n",
    "Youtube_Recommendation('Inception')"
   ]
  },
  {
   "cell_type": "code",
   "execution_count": 2,
   "id": "4a21d4be-c0ad-4616-b89c-fb470cf58c71",
   "metadata": {},
   "outputs": [
    {
     "name": "stdout",
     "output_type": "stream",
     "text": [
      "Collecting scikit-learn\n",
      "  Downloading scikit_learn-1.6.1-cp312-cp312-macosx_10_13_x86_64.whl.metadata (31 kB)\n",
      "Requirement already satisfied: numpy>=1.19.5 in /Library/Frameworks/Python.framework/Versions/3.12/lib/python3.12/site-packages (from scikit-learn) (2.2.4)\n",
      "Collecting scipy>=1.6.0 (from scikit-learn)\n",
      "  Downloading scipy-1.15.2-cp312-cp312-macosx_10_13_x86_64.whl.metadata (61 kB)\n",
      "\u001b[2K     \u001b[90m━━━━━━━━━━━━━━━━━━━━━━━━━━━━━━━━━━━━━━━━\u001b[0m \u001b[32m62.0/62.0 kB\u001b[0m \u001b[31m3.3 MB/s\u001b[0m eta \u001b[36m0:00:00\u001b[0m\n",
      "\u001b[?25hCollecting joblib>=1.2.0 (from scikit-learn)\n",
      "  Downloading joblib-1.4.2-py3-none-any.whl.metadata (5.4 kB)\n",
      "Collecting threadpoolctl>=3.1.0 (from scikit-learn)\n",
      "  Downloading threadpoolctl-3.6.0-py3-none-any.whl.metadata (13 kB)\n",
      "Downloading scikit_learn-1.6.1-cp312-cp312-macosx_10_13_x86_64.whl (12.1 MB)\n",
      "\u001b[2K   \u001b[90m━━━━━━━━━━━━━━━━━━━━━━━━━━━━━━━━━━━━━━━━\u001b[0m \u001b[32m12.1/12.1 MB\u001b[0m \u001b[31m27.2 MB/s\u001b[0m eta \u001b[36m0:00:00\u001b[0m00:01\u001b[0m00:01\u001b[0m\n",
      "\u001b[?25hDownloading joblib-1.4.2-py3-none-any.whl (301 kB)\n",
      "\u001b[2K   \u001b[90m━━━━━━━━━━━━━━━━━━━━━━━━━━━━━━━━━━━━━━━━\u001b[0m \u001b[32m301.8/301.8 kB\u001b[0m \u001b[31m4.5 MB/s\u001b[0m eta \u001b[36m0:00:00\u001b[0mta \u001b[36m0:00:01\u001b[0m\n",
      "\u001b[?25hDownloading scipy-1.15.2-cp312-cp312-macosx_10_13_x86_64.whl (38.8 MB)\n",
      "\u001b[2K   \u001b[90m━━━━━━━━━━━━━━━━━━━━━━━━━━━━━━━━━━━━━━━━\u001b[0m \u001b[32m38.8/38.8 MB\u001b[0m \u001b[31m12.6 MB/s\u001b[0m eta \u001b[36m0:00:00\u001b[0m00:01\u001b[0m00:01\u001b[0m\n",
      "\u001b[?25hDownloading threadpoolctl-3.6.0-py3-none-any.whl (18 kB)\n",
      "Installing collected packages: threadpoolctl, scipy, joblib, scikit-learn\n",
      "Successfully installed joblib-1.4.2 scikit-learn-1.6.1 scipy-1.15.2 threadpoolctl-3.6.0\n",
      "\n",
      "\u001b[1m[\u001b[0m\u001b[34;49mnotice\u001b[0m\u001b[1;39;49m]\u001b[0m\u001b[39;49m A new release of pip is available: \u001b[0m\u001b[31;49m24.0\u001b[0m\u001b[39;49m -> \u001b[0m\u001b[32;49m25.0.1\u001b[0m\n",
      "\u001b[1m[\u001b[0m\u001b[34;49mnotice\u001b[0m\u001b[1;39;49m]\u001b[0m\u001b[39;49m To update, run: \u001b[0m\u001b[32;49mpython3 -m pip install --upgrade pip\u001b[0m\n",
      "Note: you may need to restart the kernel to use updated packages.\n"
     ]
    }
   ],
   "source": [
    "pip install scikit-learn"
   ]
  },
  {
   "cell_type": "code",
   "execution_count": null,
   "id": "4f152a93-a759-4e68-ba45-4f4c23908e23",
   "metadata": {},
   "outputs": [],
   "source": [
    "pip install pandas"
   ]
  },
  {
   "cell_type": "code",
   "execution_count": 4,
   "id": "fceacb8a-76eb-4a22-a3d1-898b9a824fbe",
   "metadata": {},
   "outputs": [
    {
     "name": "stdout",
     "output_type": "stream",
     "text": [
      "             Title     Genre\n",
      "0        Inception    Sci-Fi\n",
      "1     Interstellar    Sci-Fi\n",
      "2          Dunkirk       War\n",
      "3  The Dark Knight    Action\n",
      "4          Memento  Thriller\n",
      "<Compressed Sparse Row sparse matrix of dtype 'float64'\n",
      "\twith 7 stored elements and shape (5, 5)>\n",
      "  Coords\tValues\n",
      "  (0, 2)\t0.7071067811865476\n",
      "  (0, 1)\t0.7071067811865476\n",
      "  (1, 2)\t0.7071067811865476\n",
      "  (1, 1)\t0.7071067811865476\n",
      "  (2, 4)\t1.0\n",
      "  (3, 0)\t1.0\n",
      "  (4, 3)\t1.0\n",
      "[[1. 1. 0. 0. 0.]\n",
      " [1. 1. 0. 0. 0.]\n",
      " [0. 0. 1. 0. 0.]\n",
      " [0. 0. 0. 1. 0.]\n",
      " [0. 0. 0. 0. 1.]]\n",
      "0\n",
      "similar_films  [(0, np.float64(1.0000000000000002)), (1, np.float64(1.0000000000000002)), (2, np.float64(0.0)), (3, np.float64(0.0)), (4, np.float64(0.0))]\n"
     ]
    },
    {
     "data": {
      "text/plain": [
       "['Interstellar', 'Dunkirk']"
      ]
     },
     "execution_count": 4,
     "metadata": {},
     "output_type": "execute_result"
    }
   ],
   "source": [
    "#Pandas -Numbers , Text\n",
    "#Numpy \n",
    "\n",
    "#matplotlib - visual\n",
    "\n",
    "#scikit\n",
    "#pytorch\n",
    "#tensorflow\n",
    "#sklearn\n",
    "#pip install pandas #To install pandas\n",
    "\n",
    "import pandas as pd\n",
    "from sklearn.feature_extraction.text import TfidfVectorizer\n",
    "from sklearn.metrics.pairwise import cosine_similarity\n",
    "\n",
    "#Dictionary datatype\n",
    "# Csv file , excel , Database (Stru , unstru)\n",
    "\n",
    "data={'Title':['Inception','Interstellar','Dunkirk','The Dark Knight','Memento'],'Genre':['Sci-Fi','Sci-Fi','War','Action','Thriller']}\n",
    "\n",
    "#Dataframe ->Data handling in pandas  (list , set etc)\n",
    "\n",
    "df= pd.DataFrame(data)\n",
    "\n",
    "print(df)\n",
    "\n",
    "\n",
    "# Text data ---> Numerical vectors\n",
    "\n",
    "vectorizer=TfidfVectorizer()\n",
    "genre_m =vectorizer.fit_transform(df['Genre'])\n",
    "\n",
    "\n",
    "print(genre_m)\n",
    "\n",
    "similarity = cosine_similarity(genre_m)\n",
    "\n",
    "print(similarity)\n",
    "\n",
    "\n",
    "def Youtube_Recommendation(title):\n",
    "    idx= df[df['Title']==title].index[0] # Get the index of movies\n",
    "    print(idx)\n",
    "    #[0,1,2,3,4]   --> Index  Enumerate() --> Add the result with index  [Index 0 : 0 , Index 1 : 1]\n",
    "    similar_films =  list(enumerate(similarity[idx])) # Get the similarity score \n",
    "    print(\"similar_films \",similar_films)\n",
    "    #sorted = asc , desc    \n",
    "    list_movies = sorted(similar_films, key=lambda x:x[1],reverse=True)[1:3] #sort & top recommendation of movie\n",
    "    recommendations=[df['Title'][i[0]]  for i in list_movies]\n",
    "    return recommendations\n",
    "    \n",
    "Youtube_Recommendation('Inception')"
   ]
  },
  {
   "cell_type": "code",
   "execution_count": null,
   "id": "0254f860-e72a-405e-b1ed-4396022d1c7a",
   "metadata": {},
   "outputs": [],
   "source": []
  }
 ],
 "metadata": {
  "kernelspec": {
   "display_name": "Python 3 (ipykernel)",
   "language": "python",
   "name": "python3"
  },
  "language_info": {
   "codemirror_mode": {
    "name": "ipython",
    "version": 3
   },
   "file_extension": ".py",
   "mimetype": "text/x-python",
   "name": "python",
   "nbconvert_exporter": "python",
   "pygments_lexer": "ipython3",
   "version": "3.12.2"
  }
 },
 "nbformat": 4,
 "nbformat_minor": 5
}
