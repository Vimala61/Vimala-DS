{
 "cells": [
  {
   "cell_type": "code",
   "execution_count": null,
   "id": "4a21d4be-c0ad-4616-b89c-fb470cf58c71",
   "metadata": {},
   "outputs": [],
   "source": [
    "pip install scikit-learn"
   ]
  },
  {
   "cell_type": "code",
   "execution_count": null,
   "id": "4f152a93-a759-4e68-ba45-4f4c23908e23",
   "metadata": {},
   "outputs": [],
   "source": [
    "pip install pandas"
   ]
  },
  {
   "cell_type": "code",
   "execution_count": null,
   "id": "37370fda-f005-4134-bda1-c148dbd3153a",
   "metadata": {},
   "outputs": [],
   "source": [
    "# Netflix movie recommandation\n",
    "\n",
    "import pandas as pd\n",
    "from sklearn.feature_extraction.text import TfidfVectorizer\n",
    "from sklearn.metrics.pairwise import cosine_similarity\n",
    "\n",
    "#Dictionary datatype\n",
    "# Csv file , excel , Database (Stru , unstru)\n",
    "\n",
    "data={'Title':['Inception','Interstellar','Dunkirk','The Dark Knight','Memento'],'Genre':['Sci-Fi','Sci-Fi','War','Action','Thriller']}\n",
    "\n",
    "#Dataframe ->Data handling in pandas  (list , set etc)\n",
    "\n",
    "df= pd.DataFrame(data)\n",
    "\n",
    "print(df)\n",
    "\n",
    "\n",
    "# Text data ---> Numerical vectors\n",
    "\n",
    "vectorizer=TfidfVectorizer()\n",
    "genre_m =vectorizer.fit_transform(df['Genre'])\n",
    "\n",
    "\n",
    "print(genre_m)\n",
    "\n",
    "similarity = cosine_similarity(genre_m)\n",
    "\n",
    "print(similarity)\n",
    "\n",
    "\n",
    "def Youtube_Recommendation(title):\n",
    "    idx= df[df['Title']==title].index[0] # Get the index of movies\n",
    "    print(idx)\n",
    "    #[0,1,2,3,4]   --> Index  Enumerate() --> Add the result with index  [Index 0 : 0 , Index 1 : 1]\n",
    "    similar_films =  list(enumerate(similarity[idx])) # Get the similarity score \n",
    "    print(similar_films)\n",
    "    #sorted = asc , desc    \n",
    "    list_movies = sorted(similar_films, key=lambda x:x[1],reverse=True)[1:3] #sort & top recommendation of movie\n",
    "    recommendations=[df['Title'][i[0]]  for i in list_movies]\n",
    "    return recommendations\n",
    "    \n",
    "Youtube_Recommendation('Inception')"
   ]
  },
  {
   "cell_type": "code",
   "execution_count": 15,
   "id": "0254f860-e72a-405e-b1ed-4396022d1c7a",
   "metadata": {},
   "outputs": [
    {
     "name": "stdout",
     "output_type": "stream",
     "text": [
      "[(36, np.float64(1.0)), (72, np.float64(1.0))]\n"
     ]
    },
    {
     "data": {
      "text/plain": [
       "[('GoodFellas', \"['drama', 'crime']\"),\n",
       " ('Adam: His Song Continues', \"['crime', 'drama']\")]"
      ]
     },
     "execution_count": 15,
     "metadata": {},
     "output_type": "execute_result"
    }
   ],
   "source": [
    "import pandas as pd\n",
    "from sklearn.feature_extraction.text import TfidfVectorizer\n",
    "from sklearn.metrics.pairwise import cosine_similarity\n",
    "\n",
    "df = pa.read_csv(\"titles.csv\") # Pandas --> dataframes\n",
    "#print(df.info())\n",
    "\n",
    "\n",
    "\n",
    "# Text data ---> Numerical vectors\n",
    "\n",
    "vectorizer=TfidfVectorizer()\n",
    "genre_m =vectorizer.fit_transform(df['genres'])\n",
    "\n",
    "\n",
    "#print(genre_m)\n",
    "\n",
    "similarity = cosine_similarity(genre_m)\n",
    "\n",
    "#print(similarity)\n",
    "\n",
    "\n",
    "def Youtube_Recommendation(title):\n",
    "    idx= df[df['title']==title].index[0] # Get the index of movies\n",
    "    #print(idx)\n",
    "    #[0,1,2,3,4]   --> Index  Enumerate() --> Add the result with index  [Index 0 : 0 , Index 1 : 1]\n",
    "    similar_films =  list(enumerate(similarity[idx])) # Get the similarity score \n",
    "    #print(similar_films)\n",
    "    #sorted = asc , desc    \n",
    "    list_movies = sorted(similar_films, key=lambda x:x[1],reverse=True)[1:3] #sort & top recommendation of movie\n",
    "    #print(list_movies)\n",
    "    recommendations= [(df['title'][i[0]], df['genres'][i[0]])  for i in list_movies]\n",
    "    return recommendations\n",
    "    \n",
    "Youtube_Recommendation('Taxi Driver')"
   ]
  },
  {
   "cell_type": "code",
   "execution_count": null,
   "id": "63e259b5-e3a4-4ce6-82b1-aca6a0703a5c",
   "metadata": {},
   "outputs": [],
   "source": []
  }
 ],
 "metadata": {
  "kernelspec": {
   "display_name": "Python 3 (ipykernel)",
   "language": "python",
   "name": "python3"
  },
  "language_info": {
   "codemirror_mode": {
    "name": "ipython",
    "version": 3
   },
   "file_extension": ".py",
   "mimetype": "text/x-python",
   "name": "python",
   "nbconvert_exporter": "python",
   "pygments_lexer": "ipython3",
   "version": "3.12.2"
  }
 },
 "nbformat": 4,
 "nbformat_minor": 5
}
